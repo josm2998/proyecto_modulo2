{
 "cells": [
  {
   "cell_type": "markdown",
   "metadata": {},
   "source": [
    "# Cálculo de la carga encerrada en una esfera doble polarizada por integración Montecarlo"
   ]
  },
  {
   "cell_type": "markdown",
   "metadata": {},
   "source": [
    "## 1.2 Objetivos\n",
    "\n",
    "### 1.1 Objetivo General\n",
    "\n",
    "* Hacer uso de la integración Montecarlo para obtener la carga encerrada y poder obtener el campo eléctrico en una esfera doble polarizada de cierta forma.\n",
    "\n",
    "### 1.2 Objetivos específicos\n",
    "\n",
    "* Utilizar el material visto en clase acerca del método Montecarlo, con el módulo random de la libreria numpy en específico para el cálculo de integrales, en este caso siendo integrales dobles y triples.\n",
    "\n",
    "* Utilizar la librería pandas para el acomodo de los ajustes realizados por la integración Montecarlo para observar cómo afecta el número de iteraciones al resultado de la integral y compararlos al resultado real.\n"
   ]
  },
  {
   "cell_type": "markdown",
   "metadata": {},
   "source": [
    "## 1.3 Modelo que representa al problema\n",
    "\n",
    "### Dielétricos\n",
    "> Los campos eléctricos no responden de la misma manera en cada estado físico de la materia (sólido, líquido, gases, metales, madera, etc). Sin embargo, estos se pueden clasificar en dos tipos, conductores y dieléctricos. Donde en los dieléctricos todas las cargas son atraídas hacía ciertos atomos o moléculas específicas, están atrapadas y solo pueden moverse limitadamente dentro del atómo o la molécula.\n",
    "> \n",
    ">Estos desplazamientos no son tan abruptos como el reacomodamiento de carga en un conductor, pero sus efectos acumulativos cuentan para el comportamiento característico de los dieléctricos. Existen dos principales mecanismos por los cuales el campo eléctrico puede distorsionar la distribución de carga de un átomo o molécula dieléctrica: extensión y giratoria. \n",
    "\n",
    "### Dipolos inducidos\n",
    "> Dentro de los átomos existe una carga positiva dentro del núcleo y una nube de electrones cargados negativamente, incluso cuando se trata de un átomo neutro. Estas regiones son influenciadas por el campo, el núcleo es empujado hacia la dirección de este, mientras que los electrones hacia el lado contrario. \n",
    "> \n",
    "> Si el campo es lo suficientemente fuerte, puede separar el átomo completamente, ionizandolo, donde la materia dieléctrica se vuelve conductor, sin embargo, para campos más débiles, se establece un equilibrio, donde si el centro de la nube de electrones no coincide con el nucleo, estas cargas positivas y negativas se atraen unas a otras, lo que mantiene el átomo unido. Estas dos fuerzas opuestas, (E) empujando los electrones y el núcleo en direcciones opuestas y su atracción mutua tratando de llegar a su posición original, alcanzan un balance, dejando el átomo polarizado, con la carga desplazada ligeramente más en un sentido, mientras que en el otro menos. El átomo cuenta con un minúsculo momento dipolo (p), que apunta a la misma dirección que el campo eléctrico (E).\n",
    "\n",
    "### Polarización \n",
    "> Anteriormente se señaló que sucede si se introduce un campo eléctrico en un material con átomos neutros, estos se polarizan, esto sucede de igual forma si se introduce un material dieléctrico en un campo elétrico, por otro lado, si el material dieléctrico tiene átomos polarizados, cada dipolo permanente experimentará un torque, que tiende a alinearlo a lo largo de la dirección de campo. Los efectos descritos anteriormente ocasionan el mismo resultado, el material resulta polarizado, cuya unidad de medida es \"P= momento dipolo por unidad de volumen\", que se denomina polarización.\n",
    "\n",
    "### Cargas ligadas\n",
    "En un dieléctrico todas las cargas son ligadas. Estas cargas, son las responsables de la interacción del material con el campo eléctrico en el dieléctrico. Las cargas ligadas se orientan al interaccionar con el campo eléctrico, creando una distribución nueva de carga que se llama carga de polarización.\n",
    "\n",
    "Si suponemos que tenemos una pieza de un material polarizado, en donde se conoce el momento de dipolo por unidad de volument (P) ¿Cuál es el campo producido por el objeto? No el que causa la polarización, sino el que produce la polarización en si. \n",
    "Sabemos como es el campo individual de un dipolo, asi que podemos partir el material en infinitesimas dipolos para al final integrarlos y obtener el resultado total. Para un dipolo p, su potencial es:\n",
    "\n",
    "$$V{(r)}={\\frac{1}{4{\\pi}\\varepsilon_{0}}}{\\frac{p·\\hat{\\phi}}{\\phi^{2}}}$$\n",
    "\n",
    "Donde phi es el vector del dipolo en el punto donde se evalúa el potencial. En este contexto, el momento dipolo es:\n",
    "\n",
    "$$p=P{\\tau'}$$\n",
    "\n",
    "en cada volumen del elemento, por lo que el potencial es:\n",
    "\n",
    "$$V{(r)}={\\frac{1}{4{\\pi}\\varepsilon_{0}}}\\int_{v}^{}{\\frac{P(r')·\\hat{r}}{r^{2}}}d\\tau'$$\n",
    "\n",
    "Simpllificando en una forma más fácil de reducir resulta en:\n",
    "\n",
    "$${\\triangledown'(\\frac{1}{r})}=\\frac{\\hat{r}}{r^2}$$\n",
    "\n",
    "Reemplazando en la integral anterior se obtiene:\n",
    "\n",
    "$$V={\\frac{1}{4{\\pi}\\varepsilon_{0}}}\\int_{v}^{}{P·\\triangledown'(\\frac{1}{r})}d\\tau'$$\n",
    "\n",
    "Mediante el uso de integración por partes se resuelve:\n",
    "\n",
    "$$V={\\frac{1}{4{\\pi}\\varepsilon_{0}}}[\\int_{v}^{}{\\triangledown'·(\\frac{P}{r})}d\\tau'- \\int_{v}^{}{\\frac{1}{r}({\\triangledown'}·{P})}d\\tau']$$\n",
    "\n",
    "Observando que el primer término es similar al potencial de una superficie de carga:\n",
    "\n",
    "$$\\sigma_{b}=P·{\\hat{n}}$$\n",
    "\n",
    "Mientras que el segundo término es similar al potencial de un volumen de carga:\n",
    "\n",
    "$$p_{b}=-\\triangledown·{P}$$\n",
    "\n",
    "Con las anteriores simplificaciones se obtiene que la ecuación anterior se convierte en:\n",
    "\n",
    "$$V={\\frac{1}{4{\\pi}\\varepsilon_{0}}}\\int_{S}^{}{\\frac{\\sigma_{b}}{r}}da'+ \\int_{v}^{}{\\frac{p_{b}}{r}}d\\tau'$$\n",
    "\n",
    "Lo que significa que el potencial y el campo de un objeto polarizado es equivalente a la suma de la densidad de carga volumétrica y la densidad de carga superifical. Por lo que en lugar de calcular la integral de todas las partes de los dipolos, se pueden encontrar las cargas ligadas y después calcular los campos que producen, de la misma forma que se calcula el campo de cualquier carga de superficie y volumen, como por ejemplo, usando la Ley de Gauss.\n",
    "\n",
    "### Ley de Gauss\n",
    "La Ley de Gauss establece que el flujo de ciertos campos a través de una superficie cerrada es proporcional a la magnitud de las fuentes de dicho campo que hay en el interior de la misma superficie. Estos campos son aquellos cuya intensidad decrece como la distancia a la fuente al cuadrado. La constante de proporcionalidad depende del sistema de unidades empleado.\n",
    "\n",
    "Esta ley se puede expresar de dos maneras, su forma integral que es utilizada en el caso de una distribución extensa de carga, se escribe:\n",
    "\n",
    "$$\\phi=\\int_{S}^{}\\overrightarrow{E}·d\\overrightarrow{A}=\\frac{1}{\\varepsilon_0}\\int_{V}^{}pdV=\\frac{Q_{A}}{\\varepsilon_0}$$\n",
    "\n",
    "Donde $\\phi$ es el flujo eléctrico, $\\overrightarrow{E}$ es el campo eléctrico $d\\overrightarrow{A}$ es un elemento diferencial del área donde se realiza la integral, $Q_{A}$ es la carta total encerrada dentro del área A, $p$ es la carga encerrada en punto de V, ${\\varepsilon_0}$ es la permitividad eléctrica en el vacío. Esta última es un parámetro físico de los materiales que describe qué tanto es afectado por un campo eléctrico. La permitividad eléctrica del vacío es constante y está dada por $\\varepsilon _{0} = 8.8541878176x10-12 {\\frac{C^{2}}{N·m2}}.$\n",
    "\n",
    "Mientras que en su forma diferencial se toma la ley de Gauss en su forma integral:\n",
    "\n",
    "$$\\int_{S}^{}\\overrightarrow{E}·d\\overrightarrow{A}=\\frac{1}{\\varepsilon_0}\\int_{V}^{}pdV=\\frac{Q_{A}}{\\varepsilon_0}$$\n",
    "\n",
    "Aplicando el teorema de Gauss de la divergencia se obtiene:\n",
    "\n",
    "$$\\int_{S}^{}({\\overrightarrow{\\triangledown}}·{\\overrightarrow{E}})dV=\\frac{1}{\\varepsilon_0}\\int_{V}^{}pdV=\\frac{Q_{A}}{\\varepsilon_0}$$\n",
    "\n",
    "Como ambos lados de la igualdad poseen diferenciales volumétricas, y esta expresión debe ser cierta para cualquier volumen, solo puede ser que:\n",
    "\n",
    "$${\\overrightarrow{\\triangledown}}·{\\overrightarrow{E}}=\\frac{p}{\\varepsilon_{0}}$$\n",
    "\n",
    "Obteniendo la expresión de Gauss para el vacío.\n",
    "\n",
    "\n",
    "### Interpretación física de las cargas ligadas\n",
    "Tanto la densidad de carga superficial como la volumétrica representan acumulaciones de carga genuinamente perfectas. Para entender esto, podemos suponer que tenemos un hilo largo de dipolosos, a lo largo de este, la cabeza de uno cancela efectivamente a la parte trasera de su vecino, pero al final, quedarán dos cargas restantes. Positiva a la derecha y negativa a la izquierda. Como si se peleara un electrón en un extremo y se arrastrara hacia el otro extremo, sin embargo, ningún electron logra el recorrido completo, varios desplazamientos minúsculos se agregan a uno mayor. Se puede llamar a la carga neta en los extremos como una carga ligada, para recordar que no puede ser removida. En un dieléctrico, cada electrón es atraido hacia un átomo o molécula específica, pero aparte de ello, una carga ligada no es diferente de cualquier otro tipo de carga.\n",
    "\n",
    "Para calcular la cantidad de carga ligada resultante de una polarización, por ejemplo, se examina un tubo de dieléctrico paralelo a P. El momento dipolo  es P, donde A es la sección transversal del área del tubo, y d es la longitud del pedazo. En terminos de carga (q), el momento dipolo puede escribirse como \"qd\". Por lo tanto, la carga ligada que se aplia en el extremo derecho del tubo se conoce como: \n",
    "\n",
    "$$q=PA$$\n",
    "\n",
    "Si se corta el tubo de manera perpendicular, la densidad de carga superficial es:\n",
    "\n",
    "$$\\sigma_{b}=\\frac{q}{A}=P$$\n",
    "\n",
    "Por otro lado, para un corte transversal, la carga será la misma pero con:\n",
    "\n",
    "$$A=A_{end}cos{\\theta}$$\n",
    "\n",
    "Dando como resultado:\n",
    "\n",
    "$$\\sigma_{b}=\\frac{q}{A_{end}}=Pcos{\\theta}=P·{\\hat{n}}$$\n",
    "\n",
    "El efecto de polarización es para describir una carga ligada sobre la superficie de un material. Si la polarización no es uniforme, obtenemos acumulaciones de cargas ligadas dentro del material, asi como en la superficie. Por otro lado la carga ligada neta en un volumen es equivalente y opuesta a la cantidad expulsada a través de la superficie. Se tiene entonces:\n",
    "\n",
    "$$\\int_{V}^{}p_{b}d\\tau=-\\int_{S}^{}P·da=-\\int_{V}^{}(\\triangledown·P)d\\tau$$\n",
    "\n",
    "Debido a que esto funciona para cualquier volumen, finalmente se obtiene:\n",
    "\n",
    "$$p_{b}=-\\triangledown·P$$"
   ]
  },
  {
   "cell_type": "markdown",
   "metadata": {},
   "source": [
    "### Problema modelo a utilizar\n",
    "\n",
    "* Encontrar el campo eléctrico **E**  en todos los puntos del espacio debido a un cascarón esférico hueco de radio interior $a=0.5m$ y radio exterior $b=1 m$ que posee la polarización dada por:\n",
    "\n",
    "$$\\overrightarrow { P } =\\frac{{ P }_{ 0 }\\widehat { r }}{r} $$\n",
    "\n",
    "$$P_0=5 [Cm^2]$$ \n"
   ]
  },
  {
   "cell_type": "markdown",
   "metadata": {},
   "source": [
    "> Solución utilizando la ley de Gauss por la simetría y características del problema dada una polarización:\n",
    "\n",
    "$$\\oint { \\vec { E } \\cdot d\\vec { a } =\\frac { { Q }_{ e } }{ {\\varepsilon}_{ 0 } }} $$\n",
    "\n",
    "* Al ser radial tanto el vector del diferencial de área como el del campo eléctrico y tener una simetría esférica altamente simétrica se tendrá:\n",
    "$$EA\\cos{0}=\\frac{Q_e}{\\varepsilon_0}$$\n",
    "\n",
    "$$\\vec{E}=\\frac{Q_e}{4\\pi r^2 \\varepsilon_0}  \\hat{r}$$\n",
    "\n",
    "* En donde la carga encerrada debido a las polarizaciones conocidas como densidades de carga volumétrica/superficiales ligadas se obtienen de la siguiente manera general a analizar para cada uno de los casos:\n",
    "\n",
    "$$Q_e= \\int_{\\tau}^{} \\rho_b d \\tau  +\\oint_{S}^{}\\sigma_{ab} d S $$\n",
    "\n",
    "* En donde las expresiones de densidades de carga volumétrica y superficial ligadas son las siguientes:\n",
    "\n",
    "$$\\sigma_{ab}=\\overrightarrow{P}\\cdot\\hat{n}$$\n",
    "\n",
    "$$\\rho_b=-\\triangledown\\cdot\\overrightarrow{P}$$\n",
    "\n",
    "* Finalmente se obtiene la expresión a integrar para los distintos casos: (la primera tratándose de una integral triple y la segunda de una integral doble):\n",
    "\n",
    "$$Q_e= \\int_{\\tau}^{} -\\triangledown\\cdot\\overrightarrow{P} d \\tau  +\\oint_{S}^{}\\overrightarrow{P}\\cdot\\hat{n} d S $$\n",
    "\n",
    "$$\\sigma_{b}={\\vec{P}}·{\\vec{r}}={\\frac{P_0}{r}}{\\hat{r}}·{\\hat{r}}={\\frac{P_0}{b}}$$\n",
    "\n",
    "\n",
    "\n"
   ]
  },
  {
   "cell_type": "markdown",
   "metadata": {},
   "source": [
    "## 1.4-1.5 Solución y visualización del problema"
   ]
  },
  {
   "cell_type": "code",
   "execution_count": 1,
   "metadata": {},
   "outputs": [],
   "source": [
    "import numpy as np\n",
    "import pandas as pd\n",
    "import sympy as sym\n",
    "sym.init_printing(use_latex='mathjax')\n",
    "import matplotlib.pyplot as plt\n",
    "%matplotlib inline\n"
   ]
  },
  {
   "cell_type": "code",
   "execution_count": 2,
   "metadata": {},
   "outputs": [
    {
     "data": {
      "text/latex": [
       "$\\displaystyle P$"
      ],
      "text/plain": [
       "P"
      ]
     },
     "execution_count": 2,
     "metadata": {},
     "output_type": "execute_result"
    }
   ],
   "source": [
    "sym.var('P',real=True)"
   ]
  },
  {
   "cell_type": "code",
   "execution_count": 3,
   "metadata": {},
   "outputs": [
    {
     "data": {
      "text/latex": [
       "$\\displaystyle r$"
      ],
      "text/plain": [
       "r"
      ]
     },
     "execution_count": 3,
     "metadata": {},
     "output_type": "execute_result"
    }
   ],
   "source": [
    "sym.var('r',real=True)"
   ]
  },
  {
   "cell_type": "markdown",
   "metadata": {},
   "source": [
    "> Para el cálculo de la densidad de carga volumétrica de polarización se tiene que la divergencia en coordenadas esféricas tomando en cuenta que solo hay un vector radial sin componentes angulares quedará de la siguiente manera para el cálculo de la de cargas ligadas:\n",
    "\n",
    "$$-\\triangledown\\cdot\\overrightarrow{P}= -(\\frac{1}{r^2}\\frac{\\partial{}}{\\partial{r}}(r^2 P_r)$$\n",
    "\n",
    "$$-\\triangledown\\cdot\\overrightarrow{P}= -(\\frac{1}{r^2}\\frac{\\partial{}}{\\partial{r}}(r^2 \\frac{P_0}{r})=\\rho_b$$"
   ]
  },
  {
   "cell_type": "code",
   "execution_count": 4,
   "metadata": {},
   "outputs": [
    {
     "data": {
      "text/latex": [
       "$\\displaystyle - \\frac{5}{r^{2}}$"
      ],
      "text/plain": [
       "-5 \n",
       "───\n",
       "  2\n",
       " r "
      ]
     },
     "execution_count": 4,
     "metadata": {},
     "output_type": "execute_result"
    }
   ],
   "source": [
    "# Cálculo de la densidad de carga volumétrica de polarización(ligadas):\n",
    "def P(r):\n",
    "    return (5/r)*r**2\n",
    "rho_b=-(1/r**2)*sym.diff(P(r),r)\n",
    "rho_b"
   ]
  },
  {
   "cell_type": "markdown",
   "metadata": {},
   "source": [
    "Por lo que la densidad de carga volumétrica de polarización es de $\\rho_b=-\\frac{5}{r^2 }$"
   ]
  },
  {
   "cell_type": "markdown",
   "metadata": {},
   "source": [
    "> Para el cálculo de la densidad de carga superficial de polarización se tiene en cuenta que el vector normal será igual al unitario radial (cambiando el signo dependiendo del radio usado ya que va perpendicular a la superficial) y que hay dos distintas densidades de cargas superficiales, una para el radio interior a y otra para el radio exterior b quedando:\n",
    "\n",
    "$$\\sigma_a=\\frac{P_0}{0.5} \\hat{r} \\cdot \\hat{-r}$$\n",
    "\n",
    "$$\\sigma_b=\\frac{P_0}{1} \\hat{r} \\cdot \\hat{r}$$\n",
    "\n",
    "Como el producto punto entre $\\hat {r} y \\hat {r}$ es igual a 1 quedarán de la siguiente manera:\n",
    "\n",
    "$$\\sigma_a=-\\frac{5}{0.5} $$\n",
    "\n",
    "$$\\sigma_b=\\frac{5}{1} $$"
   ]
  },
  {
   "cell_type": "markdown",
   "metadata": {},
   "source": [
    "* a)Caso para r<a, específicamente *r=0.25m*:"
   ]
  },
  {
   "cell_type": "markdown",
   "metadata": {},
   "source": [
    "La carga encerrada es 0 (es hueca la esfera polarizada) por lo que el campo eléctrico es 0."
   ]
  },
  {
   "cell_type": "markdown",
   "metadata": {},
   "source": [
    "* b) Caso para a<r<b, específicamente *r=0.75m*:\n",
    "\n",
    "$$Q_e= \\int_{0.5}^{0.75} \\int_{0}^{\\pi} \\int_{0}^{2\\pi} -\\frac{5}{0.75^2}0.75^2\\sin{\\theta} d \\varphi d \\theta d r +\\int_{0}^{\\pi} \\int_{0}^{2\\pi} -\\frac{5}{0.5}0.5^2\\sin{\\theta} d \\varphi d \\theta$$"
   ]
  },
  {
   "cell_type": "code",
   "execution_count": 5,
   "metadata": {},
   "outputs": [],
   "source": [
    "def integral(r,theta,phi):\n",
    "    return ((-5*r**2)/(r**2))*np.sin(theta)"
   ]
  },
  {
   "cell_type": "code",
   "execution_count": 6,
   "metadata": {},
   "outputs": [],
   "source": [
    "def MC(integral,a1,b1,a2,b2,a3,b3,N):\n",
    "    V=(b1-a1)*(b2-a2)*(b3-a3)\n",
    "    r=np.random.uniform(a1,b1,N.astype(int))\n",
    "    theta=np.random.uniform(a2,b2,N.astype(int))\n",
    "    phi=np.random.uniform(a3,b3,N.astype(int))\n",
    "    return V*np.sum(integral(r,theta,phi))/N"
   ]
  },
  {
   "cell_type": "code",
   "execution_count": 7,
   "metadata": {},
   "outputs": [
    {
     "data": {
      "text/html": [
       "<div>\n",
       "<style scoped>\n",
       "    .dataframe tbody tr th:only-of-type {\n",
       "        vertical-align: middle;\n",
       "    }\n",
       "\n",
       "    .dataframe tbody tr th {\n",
       "        vertical-align: top;\n",
       "    }\n",
       "\n",
       "    .dataframe thead th {\n",
       "        text-align: right;\n",
       "    }\n",
       "</style>\n",
       "<table border=\"1\" class=\"dataframe\">\n",
       "  <thead>\n",
       "    <tr style=\"text-align: right;\">\n",
       "      <th></th>\n",
       "      <th>Aprox integral triple</th>\n",
       "    </tr>\n",
       "  </thead>\n",
       "  <tbody>\n",
       "    <tr>\n",
       "      <th>10.0</th>\n",
       "      <td>-14.0751</td>\n",
       "    </tr>\n",
       "    <tr>\n",
       "      <th>100.0</th>\n",
       "      <td>-15.8603</td>\n",
       "    </tr>\n",
       "    <tr>\n",
       "      <th>1000.0</th>\n",
       "      <td>-15.7999</td>\n",
       "    </tr>\n",
       "    <tr>\n",
       "      <th>10000.0</th>\n",
       "      <td>-15.7089</td>\n",
       "    </tr>\n",
       "    <tr>\n",
       "      <th>100000.0</th>\n",
       "      <td>-15.6879</td>\n",
       "    </tr>\n",
       "    <tr>\n",
       "      <th>1000000.0</th>\n",
       "      <td>-15.7077</td>\n",
       "    </tr>\n",
       "    <tr>\n",
       "      <th>10000000.0</th>\n",
       "      <td>-15.7071</td>\n",
       "    </tr>\n",
       "  </tbody>\n",
       "</table>\n",
       "</div>"
      ],
      "text/plain": [
       "           Aprox integral triple\n",
       "10.0                    -14.0751\n",
       "100.0                   -15.8603\n",
       "1000.0                  -15.7999\n",
       "10000.0                 -15.7089\n",
       "100000.0                -15.6879\n",
       "1000000.0               -15.7077\n",
       "10000000.0              -15.7071"
      ]
     },
     "execution_count": 7,
     "metadata": {},
     "output_type": "execute_result"
    }
   ],
   "source": [
    "a1,b1,a2,b2,a3,b3=0.5,0.75,0,np.pi,0,2*np.pi\n",
    "N=np.logspace(1,7,7)\n",
    "\n",
    "df=pd.DataFrame(index=N,columns=['Aprox integral triple'])\n",
    "\n",
    "for n in N:\n",
    "    df.loc[n,'Aprox integral triple']= MC(integral,a1,b1,a2,b2,a3,b3,n)\n",
    "df"
   ]
  },
  {
   "cell_type": "code",
   "execution_count": 8,
   "metadata": {},
   "outputs": [],
   "source": [
    "def integral_2(theta, phi):\n",
    "    return (-5/0.5)*(0.5**2)*np.sin(theta)"
   ]
  },
  {
   "cell_type": "code",
   "execution_count": 9,
   "metadata": {},
   "outputs": [],
   "source": [
    "def MC_2(integral_2,a1,b1,a2,b2,N):\n",
    "    V=(b1-a1)*(b2-a2)\n",
    "    theta=np.random.uniform(a1,b1,N.astype(int))\n",
    "    phi=np.random.uniform(a2,b2,N.astype(int))\n",
    "    return V*np.sum(integral_2(theta,phi))/N"
   ]
  },
  {
   "cell_type": "code",
   "execution_count": 10,
   "metadata": {},
   "outputs": [
    {
     "data": {
      "text/html": [
       "<div>\n",
       "<style scoped>\n",
       "    .dataframe tbody tr th:only-of-type {\n",
       "        vertical-align: middle;\n",
       "    }\n",
       "\n",
       "    .dataframe tbody tr th {\n",
       "        vertical-align: top;\n",
       "    }\n",
       "\n",
       "    .dataframe thead th {\n",
       "        text-align: right;\n",
       "    }\n",
       "</style>\n",
       "<table border=\"1\" class=\"dataframe\">\n",
       "  <thead>\n",
       "    <tr style=\"text-align: right;\">\n",
       "      <th></th>\n",
       "      <th>Aprox integral doble</th>\n",
       "    </tr>\n",
       "  </thead>\n",
       "  <tbody>\n",
       "    <tr>\n",
       "      <th>10.0</th>\n",
       "      <td>-27.3109</td>\n",
       "    </tr>\n",
       "    <tr>\n",
       "      <th>100.0</th>\n",
       "      <td>-31.5636</td>\n",
       "    </tr>\n",
       "    <tr>\n",
       "      <th>1000.0</th>\n",
       "      <td>-30.7527</td>\n",
       "    </tr>\n",
       "    <tr>\n",
       "      <th>10000.0</th>\n",
       "      <td>-31.2912</td>\n",
       "    </tr>\n",
       "    <tr>\n",
       "      <th>100000.0</th>\n",
       "      <td>-31.3933</td>\n",
       "    </tr>\n",
       "    <tr>\n",
       "      <th>1000000.0</th>\n",
       "      <td>-31.4184</td>\n",
       "    </tr>\n",
       "    <tr>\n",
       "      <th>10000000.0</th>\n",
       "      <td>-31.4242</td>\n",
       "    </tr>\n",
       "  </tbody>\n",
       "</table>\n",
       "</div>"
      ],
      "text/plain": [
       "           Aprox integral doble\n",
       "10.0                   -27.3109\n",
       "100.0                  -31.5636\n",
       "1000.0                 -30.7527\n",
       "10000.0                -31.2912\n",
       "100000.0               -31.3933\n",
       "1000000.0              -31.4184\n",
       "10000000.0             -31.4242"
      ]
     },
     "execution_count": 10,
     "metadata": {},
     "output_type": "execute_result"
    }
   ],
   "source": [
    "a1,b1,a2,b2=0,np.pi,0,2*np.pi\n",
    "N=np.logspace(1,7,7)\n",
    "\n",
    "df1=pd.DataFrame(index=N,columns=['Aprox integral doble'])\n",
    "\n",
    "for n in N:\n",
    "    df1.loc[n,'Aprox integral doble']= MC_2(integral_2,a1,b1,a2,b2,n)\n",
    "df1"
   ]
  },
  {
   "cell_type": "code",
   "execution_count": 11,
   "metadata": {},
   "outputs": [
    {
     "data": {
      "text/plain": [
       "array([-47.13127702185025], dtype=object)"
      ]
     },
     "execution_count": 11,
     "metadata": {},
     "output_type": "execute_result"
    }
   ],
   "source": [
    "Q=df.iloc[6].values+df1.iloc[6].values\n",
    "Q"
   ]
  },
  {
   "cell_type": "code",
   "execution_count": 12,
   "metadata": {},
   "outputs": [
    {
     "data": {
      "text/latex": [
       "$\\displaystyle -753279846109.2354$"
      ],
      "text/plain": [
       "-753279846109.2354"
      ]
     },
     "execution_count": 12,
     "metadata": {},
     "output_type": "execute_result"
    }
   ],
   "source": [
    "E=-47.1229/(4*np.pi*0.75**2*8.85E-12)\n",
    "E"
   ]
  },
  {
   "cell_type": "markdown",
   "metadata": {},
   "source": [
    "### Conclusión caso 2:\n",
    "\n",
    "> Ya que la carga encerrada no es 0 si es posible aplicar la ley de Gauss en forma integral para obtener un campo eléctrico negativo en dirección radial con un valor de $-7.532E11 [N/C]$. Las líneas del campo eléctrico por su signo van hacía dentro por lo que se atraen las cargas hacía dentro, si es posible llegar a un resultado factible."
   ]
  },
  {
   "cell_type": "markdown",
   "metadata": {},
   "source": [
    "* c) Caso para r>b, específicamente *r=1.5m*:\n",
    "    \n",
    "$$Q_e= \\int_{0.5}^{1} \\int_{0}^{\\pi} \\int_{0}^{2\\pi} -\\frac{5}{1.5^2}1.5^2\\sin{\\theta} d \\varphi d \\theta d r +\\int_{0}^{\\pi} \\int_{0}^{2\\pi} -\\frac{5}{0.5}0.5^2\\sin{\\theta} d \\varphi d \\theta+\\int_{0}^{\\pi} \\int_{0}^{2\\pi} -\\frac{5}{1}1^2\\sin{\\theta} d \\varphi d \\theta$$"
   ]
  },
  {
   "cell_type": "code",
   "execution_count": 13,
   "metadata": {},
   "outputs": [],
   "source": [
    "def integral(r, theta, phi):\n",
    "    return ((-5*r**2)/(r**2))*np.sin(theta)"
   ]
  },
  {
   "cell_type": "code",
   "execution_count": 14,
   "metadata": {},
   "outputs": [],
   "source": [
    "def MC(integral,a1,b1,a2,b2,a3,b3,N):\n",
    "    V=(b1-a1)*(b2-a2)*(b3-a3)\n",
    "    r=np.random.uniform(a1,b1,N.astype(int))\n",
    "    theta=np.random.uniform(a2,b2,N.astype(int))\n",
    "    phi=np.random.uniform(a3,b3,N.astype(int))\n",
    "    return V*np.sum(integral(r,theta,phi))/N"
   ]
  },
  {
   "cell_type": "code",
   "execution_count": 15,
   "metadata": {},
   "outputs": [
    {
     "data": {
      "text/html": [
       "<div>\n",
       "<style scoped>\n",
       "    .dataframe tbody tr th:only-of-type {\n",
       "        vertical-align: middle;\n",
       "    }\n",
       "\n",
       "    .dataframe tbody tr th {\n",
       "        vertical-align: top;\n",
       "    }\n",
       "\n",
       "    .dataframe thead th {\n",
       "        text-align: right;\n",
       "    }\n",
       "</style>\n",
       "<table border=\"1\" class=\"dataframe\">\n",
       "  <thead>\n",
       "    <tr style=\"text-align: right;\">\n",
       "      <th></th>\n",
       "      <th>Aprox integral triple</th>\n",
       "    </tr>\n",
       "  </thead>\n",
       "  <tbody>\n",
       "    <tr>\n",
       "      <th>10.0</th>\n",
       "      <td>-35.9925</td>\n",
       "    </tr>\n",
       "    <tr>\n",
       "      <th>100.0</th>\n",
       "      <td>-32.0784</td>\n",
       "    </tr>\n",
       "    <tr>\n",
       "      <th>1000.0</th>\n",
       "      <td>-31.8724</td>\n",
       "    </tr>\n",
       "    <tr>\n",
       "      <th>10000.0</th>\n",
       "      <td>-31.704</td>\n",
       "    </tr>\n",
       "    <tr>\n",
       "      <th>100000.0</th>\n",
       "      <td>-31.4259</td>\n",
       "    </tr>\n",
       "    <tr>\n",
       "      <th>1000000.0</th>\n",
       "      <td>-31.4143</td>\n",
       "    </tr>\n",
       "    <tr>\n",
       "      <th>10000000.0</th>\n",
       "      <td>-31.4172</td>\n",
       "    </tr>\n",
       "  </tbody>\n",
       "</table>\n",
       "</div>"
      ],
      "text/plain": [
       "           Aprox integral triple\n",
       "10.0                    -35.9925\n",
       "100.0                   -32.0784\n",
       "1000.0                  -31.8724\n",
       "10000.0                  -31.704\n",
       "100000.0                -31.4259\n",
       "1000000.0               -31.4143\n",
       "10000000.0              -31.4172"
      ]
     },
     "execution_count": 15,
     "metadata": {},
     "output_type": "execute_result"
    }
   ],
   "source": [
    "a1,b1,a2,b2,a3,b3=0.5,1,0,np.pi,0,2*np.pi\n",
    "N=np.logspace(1,7,7)\n",
    "\n",
    "df=pd.DataFrame(index=N,columns=['Aprox integral triple'])\n",
    "\n",
    "for n in N:\n",
    "    df.loc[n,'Aprox integral triple']= MC(integral,a1,b1,a2,b2,a3,b3,n)\n",
    "df"
   ]
  },
  {
   "cell_type": "code",
   "execution_count": 16,
   "metadata": {},
   "outputs": [],
   "source": [
    "def integral_2(theta, phi):\n",
    "    return (-5/0.5)*(0.5**2)*np.sin(theta)"
   ]
  },
  {
   "cell_type": "code",
   "execution_count": 17,
   "metadata": {},
   "outputs": [],
   "source": [
    "def MC_2(integral_2,a1,b1,a2,b2,N):\n",
    "    V=(b1-a1)*(b2-a2)\n",
    "    theta=np.random.uniform(a1,b1,N.astype(int))\n",
    "    phi=np.random.uniform(a2,b2,N.astype(int))\n",
    "    return V*np.sum(integral_2(theta,phi))/N"
   ]
  },
  {
   "cell_type": "code",
   "execution_count": 18,
   "metadata": {},
   "outputs": [
    {
     "data": {
      "text/html": [
       "<div>\n",
       "<style scoped>\n",
       "    .dataframe tbody tr th:only-of-type {\n",
       "        vertical-align: middle;\n",
       "    }\n",
       "\n",
       "    .dataframe tbody tr th {\n",
       "        vertical-align: top;\n",
       "    }\n",
       "\n",
       "    .dataframe thead th {\n",
       "        text-align: right;\n",
       "    }\n",
       "</style>\n",
       "<table border=\"1\" class=\"dataframe\">\n",
       "  <thead>\n",
       "    <tr style=\"text-align: right;\">\n",
       "      <th></th>\n",
       "      <th>Aprox integral doble</th>\n",
       "    </tr>\n",
       "  </thead>\n",
       "  <tbody>\n",
       "    <tr>\n",
       "      <th>10.0</th>\n",
       "      <td>-26.2197</td>\n",
       "    </tr>\n",
       "    <tr>\n",
       "      <th>100.0</th>\n",
       "      <td>-29.6625</td>\n",
       "    </tr>\n",
       "    <tr>\n",
       "      <th>1000.0</th>\n",
       "      <td>-31.6918</td>\n",
       "    </tr>\n",
       "    <tr>\n",
       "      <th>10000.0</th>\n",
       "      <td>-31.4163</td>\n",
       "    </tr>\n",
       "    <tr>\n",
       "      <th>100000.0</th>\n",
       "      <td>-31.4163</td>\n",
       "    </tr>\n",
       "    <tr>\n",
       "      <th>1000000.0</th>\n",
       "      <td>-31.4304</td>\n",
       "    </tr>\n",
       "    <tr>\n",
       "      <th>10000000.0</th>\n",
       "      <td>-31.4227</td>\n",
       "    </tr>\n",
       "  </tbody>\n",
       "</table>\n",
       "</div>"
      ],
      "text/plain": [
       "           Aprox integral doble\n",
       "10.0                   -26.2197\n",
       "100.0                  -29.6625\n",
       "1000.0                 -31.6918\n",
       "10000.0                -31.4163\n",
       "100000.0               -31.4163\n",
       "1000000.0              -31.4304\n",
       "10000000.0             -31.4227"
      ]
     },
     "execution_count": 18,
     "metadata": {},
     "output_type": "execute_result"
    }
   ],
   "source": [
    "a1,b1,a2,b2=0,np.pi,0,2*np.pi\n",
    "N=np.logspace(1,7,7)\n",
    "\n",
    "df1=pd.DataFrame(index=N,columns=['Aprox integral doble'])\n",
    "\n",
    "for n in N:\n",
    "    df1.loc[n,'Aprox integral doble']= MC_2(integral_2,a1,b1,a2,b2,n)\n",
    "df1"
   ]
  },
  {
   "cell_type": "code",
   "execution_count": 19,
   "metadata": {},
   "outputs": [],
   "source": [
    "def integral_3(theta, phi):\n",
    "    return (5/1)*(1**2)*np.sin(theta)"
   ]
  },
  {
   "cell_type": "code",
   "execution_count": 20,
   "metadata": {},
   "outputs": [],
   "source": [
    "def MC_3(integral_3,a1,b1,a2,b2,N):\n",
    "    V=(b1-a1)*(b2-a2)\n",
    "    theta=np.random.uniform(a1,b1,N.astype(int))\n",
    "    phi=np.random.uniform(a2,b2,N.astype(int))\n",
    "    return V*np.sum(integral_3(theta,phi))/N"
   ]
  },
  {
   "cell_type": "code",
   "execution_count": 21,
   "metadata": {},
   "outputs": [
    {
     "data": {
      "text/html": [
       "<div>\n",
       "<style scoped>\n",
       "    .dataframe tbody tr th:only-of-type {\n",
       "        vertical-align: middle;\n",
       "    }\n",
       "\n",
       "    .dataframe tbody tr th {\n",
       "        vertical-align: top;\n",
       "    }\n",
       "\n",
       "    .dataframe thead th {\n",
       "        text-align: right;\n",
       "    }\n",
       "</style>\n",
       "<table border=\"1\" class=\"dataframe\">\n",
       "  <thead>\n",
       "    <tr style=\"text-align: right;\">\n",
       "      <th></th>\n",
       "      <th>Aprox integral doble</th>\n",
       "    </tr>\n",
       "  </thead>\n",
       "  <tbody>\n",
       "    <tr>\n",
       "      <th>10.0</th>\n",
       "      <td>60.3974</td>\n",
       "    </tr>\n",
       "    <tr>\n",
       "      <th>100.0</th>\n",
       "      <td>65.4787</td>\n",
       "    </tr>\n",
       "    <tr>\n",
       "      <th>1000.0</th>\n",
       "      <td>63.7739</td>\n",
       "    </tr>\n",
       "    <tr>\n",
       "      <th>10000.0</th>\n",
       "      <td>63.3064</td>\n",
       "    </tr>\n",
       "    <tr>\n",
       "      <th>100000.0</th>\n",
       "      <td>62.7958</td>\n",
       "    </tr>\n",
       "    <tr>\n",
       "      <th>1000000.0</th>\n",
       "      <td>62.7966</td>\n",
       "    </tr>\n",
       "    <tr>\n",
       "      <th>10000000.0</th>\n",
       "      <td>62.8261</td>\n",
       "    </tr>\n",
       "  </tbody>\n",
       "</table>\n",
       "</div>"
      ],
      "text/plain": [
       "           Aprox integral doble\n",
       "10.0                    60.3974\n",
       "100.0                   65.4787\n",
       "1000.0                  63.7739\n",
       "10000.0                 63.3064\n",
       "100000.0                62.7958\n",
       "1000000.0               62.7966\n",
       "10000000.0              62.8261"
      ]
     },
     "execution_count": 21,
     "metadata": {},
     "output_type": "execute_result"
    }
   ],
   "source": [
    "a1,b1,a2,b2=0,np.pi,0,2*np.pi\n",
    "N=np.logspace(1,7,7)\n",
    "\n",
    "df2=pd.DataFrame(index=N,columns=['Aprox integral doble'])\n",
    "\n",
    "for n in N:\n",
    "    df2.loc[n,'Aprox integral doble']= MC_3(integral_3,a1,b1,a2,b2,n)\n",
    "df2"
   ]
  },
  {
   "cell_type": "markdown",
   "metadata": {},
   "source": [
    "> Se extraen los resultados de las integrales realizadas con montecarlo del arreglo para poder realizar la suma total y dar con la carga encerrada."
   ]
  },
  {
   "cell_type": "code",
   "execution_count": 22,
   "metadata": {},
   "outputs": [
    {
     "data": {
      "text/plain": [
       "array([-0.01373946198629028], dtype=object)"
      ]
     },
     "execution_count": 22,
     "metadata": {},
     "output_type": "execute_result"
    }
   ],
   "source": [
    "Q=df.iloc[6].values+df1.iloc[6].values+df2.iloc[6].values\n",
    "Q"
   ]
  },
  {
   "cell_type": "markdown",
   "metadata": {},
   "source": [
    "### Conclusión caso 3\n",
    "\n",
    "> Ya que la carga encerrada es igual a 0, no importa la distancia a la que te coloques ( en el caso se utilizó 1.5m arbitratiamente) , no habrá un campo eléctrico ya que quedará la expresión como:\n",
    "\n",
    "$$\\vec{E}=\\frac{0}{4\\pi r^2 \\varepsilon_0}  \\hat{r}=0$$\n",
    "\n",
    "> Se obtuvo un resultado de 0.0048 en carga encerrada al realizar las integrales por método Montecarlo, siendo este resultado muy parecido al real para que el campo resultante sea 0, se alude el error tan pequeño a las iteraciones empleadas pero es satisfactorio el uso de Montecarlo."
   ]
  },
  {
   "cell_type": "markdown",
   "metadata": {},
   "source": [
    "## 1.7 Conclusiones\n",
    "\n",
    "Con el uso de la integración Montecarlo fue posible realizar un ejercicio de complejidad elevada de teoría electromagnética conduciendo a las soluciones correctas previamente resueltas de manera teórica para todos los casos proporcionados de r<a (solamente conceptual), a<r<b, r>b. \n",
    "\n",
    "Específicamente se utilizó el conocimiento de clase para el uso de las librerias de numpy y pandas, que con el uso del módulo de random y logspace sumados a los módulos previamente empleados en el caso de numpy y de los dataframes para pandas."
   ]
  },
  {
   "cell_type": "markdown",
   "metadata": {},
   "source": [
    "## 1.8 Referencias\n",
    "\n",
    "* Jackson, John David (1999). Electrodinámica clásica, 3.º ed., Nueva York: Wiley.\n",
    "* L. G. Hector and H. L. Schultz (1936). «The Dielectric Constant of Air at Radiofrequencies». Physics 7 (4). pp. 133-136. \n",
    "* Griffiths David (2005) \"Introduction to electrodynamics\", 4ta edición, Pearson Education International, Reed College, Portland, Estados Unidos.\n",
    "* Sin autor (2010) \"Densidades de carga de polarización\", Departamento de física aplicada III, Universidad de Sevilla, Sevilla, España. *Fuente*: http://laplace.us.es/wiki/index.php/Densidades_de_carga_de_polarizaci%C3%B3n#Volum.C3.A9trica \n",
    "* Serway. Física. Cap 20 vol 2.3 ed McGraw-Hill. \n",
    "* The Feynman Lectures on Physics, Vol II."
   ]
  }
 ],
 "metadata": {
  "kernelspec": {
   "display_name": "Python 3",
   "language": "python",
   "name": "python3"
  },
  "language_info": {
   "codemirror_mode": {
    "name": "ipython",
    "version": 3
   },
   "file_extension": ".py",
   "mimetype": "text/x-python",
   "name": "python",
   "nbconvert_exporter": "python",
   "pygments_lexer": "ipython3",
   "version": "3.7.3"
  }
 },
 "nbformat": 4,
 "nbformat_minor": 2
}
